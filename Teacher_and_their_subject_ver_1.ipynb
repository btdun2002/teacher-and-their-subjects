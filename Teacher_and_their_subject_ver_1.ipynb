{
 "cells": [
  {
   "cell_type": "markdown",
   "metadata": {},
   "source": [
    "<h2>What we need to do to one teacher one link:</h2>"
   ]
  },
  {
   "cell_type": "markdown",
   "metadata": {},
   "source": [
    "* Get teacher name (by using .title)\n",
    "* Get subjects (by using writefile and readfile)\n",
    "    * Using split and delete \":\" to get the subject code\n",
    "* Append them to the dataframe (the name of the teacher, the link of the teacher and the subjects)"
   ]
  },
  {
   "cell_type": "code",
   "execution_count": 1,
   "metadata": {},
   "outputs": [],
   "source": [
    "from bs4 import BeautifulSoup\n",
    "import requests\n",
    "import pandas as pd"
   ]
  },
  {
   "cell_type": "code",
   "execution_count": 2,
   "metadata": {},
   "outputs": [],
   "source": [
    "url = \"https://soict.hust.edu.vn/can-bo/ts-pham-dang-hai.html\"\n",
    "html = requests.get(url).text"
   ]
  },
  {
   "cell_type": "code",
   "execution_count": 3,
   "metadata": {},
   "outputs": [],
   "source": [
    "soup = BeautifulSoup(html,\"html5lib\")\n",
    "soup_text = soup.prettify()"
   ]
  },
  {
   "cell_type": "markdown",
   "metadata": {},
   "source": [
    "<h3>Get the teacher name</h3>"
   ]
  },
  {
   "cell_type": "code",
   "execution_count": 4,
   "metadata": {},
   "outputs": [
    {
     "data": {
      "text/plain": [
       "'TS. Phạm Đăng Hải - SOICT'"
      ]
     },
     "execution_count": 4,
     "metadata": {},
     "output_type": "execute_result"
    }
   ],
   "source": [
    "teacher_name = str(soup.title.string)\n",
    "teacher_name"
   ]
  },
  {
   "cell_type": "markdown",
   "metadata": {},
   "source": [
    "<h3>Get the subjects</h3>"
   ]
  },
  {
   "cell_type": "code",
   "execution_count": 5,
   "metadata": {},
   "outputs": [],
   "source": [
    "file_name = \"Parsed HTML of \" + teacher_name + \".txt\"\n",
    "with open (file_name,'w',encoding = 'utf-8') as writefile:\n",
    "    writefile.write(soup_text)"
   ]
  },
  {
   "cell_type": "code",
   "execution_count": 6,
   "metadata": {},
   "outputs": [
    {
     "data": {
      "text/plain": [
       "['IT1110', 'IT3070', 'IT4074', 'IT4182']"
      ]
     },
     "execution_count": 6,
     "metadata": {},
     "output_type": "execute_result"
    }
   ],
   "source": [
    "with open (file_name,'r',encoding = 'utf-8') as readfile:\n",
    "    HTML_lines = readfile.readlines()\n",
    "IT_lines = []\n",
    "for line in HTML_lines:\n",
    "    if 'IT' in line:\n",
    "        IT_lines.append(line)\n",
    "for index, line in enumerate(IT_lines):\n",
    "    line = line.split(':')\n",
    "    del line[1]\n",
    "    line = line[0].replace(' ','')\n",
    "    IT_lines[index] = line\n",
    "IT_lines"
   ]
  },
  {
   "cell_type": "markdown",
   "metadata": {},
   "source": [
    "<h3>Append to the dataframe</h3>"
   ]
  },
  {
   "cell_type": "code",
   "execution_count": 7,
   "metadata": {},
   "outputs": [
    {
     "data": {
      "text/html": [
       "<div>\n",
       "<style scoped>\n",
       "    .dataframe tbody tr th:only-of-type {\n",
       "        vertical-align: middle;\n",
       "    }\n",
       "\n",
       "    .dataframe tbody tr th {\n",
       "        vertical-align: top;\n",
       "    }\n",
       "\n",
       "    .dataframe thead th {\n",
       "        text-align: right;\n",
       "    }\n",
       "</style>\n",
       "<table border=\"1\" class=\"dataframe\">\n",
       "  <thead>\n",
       "    <tr style=\"text-align: right;\">\n",
       "      <th></th>\n",
       "      <th>GIAO VIEN</th>\n",
       "      <th>URL</th>\n",
       "      <th>MON HOC</th>\n",
       "    </tr>\n",
       "  </thead>\n",
       "  <tbody>\n",
       "    <tr>\n",
       "      <th>0</th>\n",
       "      <td>TS. Phạm Đăng Hải - SOICT</td>\n",
       "      <td>https://soict.hust.edu.vn/can-bo/ts-pham-dang-...</td>\n",
       "      <td>[IT1110, IT3070, IT4074, IT4182]</td>\n",
       "    </tr>\n",
       "  </tbody>\n",
       "</table>\n",
       "</div>"
      ],
      "text/plain": [
       "                   GIAO VIEN  \\\n",
       "0  TS. Phạm Đăng Hải - SOICT   \n",
       "\n",
       "                                                 URL  \\\n",
       "0  https://soict.hust.edu.vn/can-bo/ts-pham-dang-...   \n",
       "\n",
       "                            MON HOC  \n",
       "0  [IT1110, IT3070, IT4074, IT4182]  "
      ]
     },
     "execution_count": 7,
     "metadata": {},
     "output_type": "execute_result"
    }
   ],
   "source": [
    "df = pd.DataFrame([], columns=['GIAO VIEN', 'URL', 'MON HOC'])\n",
    "df.loc[len(df)] = [teacher_name,url,IT_lines]\n",
    "df"
   ]
  }
 ],
 "metadata": {
  "interpreter": {
   "hash": "b89b5cfaba6639976dc87ff2fec6d58faec662063367e2c229c520fe71072417"
  },
  "kernelspec": {
   "display_name": "Python 3.10.0 64-bit",
   "language": "python",
   "name": "python3"
  },
  "language_info": {
   "codemirror_mode": {
    "name": "ipython",
    "version": 3
   },
   "file_extension": ".py",
   "mimetype": "text/x-python",
   "name": "python",
   "nbconvert_exporter": "python",
   "pygments_lexer": "ipython3",
   "version": "3.10.0"
  },
  "orig_nbformat": 4
 },
 "nbformat": 4,
 "nbformat_minor": 2
}
